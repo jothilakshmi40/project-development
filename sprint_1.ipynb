{
  "nbformat": 4,
  "nbformat_minor": 0,
  "metadata": {
    "colab": {
      "provenance": [],
      "authorship_tag": "ABX9TyOS6fR417JW2MG50bWs3QRY",
      "include_colab_link": true
    },
    "kernelspec": {
      "name": "python3",
      "display_name": "Python 3"
    },
    "language_info": {
      "name": "python"
    }
  },
  "cells": [
    {
      "cell_type": "markdown",
      "metadata": {
        "id": "view-in-github",
        "colab_type": "text"
      },
      "source": [
        "<a href=\"https://colab.research.google.com/github/jothilakshmi40/project-development/blob/main/sprint_1.ipynb\" target=\"_parent\"><img src=\"https://colab.research.google.com/assets/colab-badge.svg\" alt=\"Open In Colab\"/></a>"
      ]
    },
    {
      "cell_type": "markdown",
      "source": [
        "Team ID:PNT2022TMlD51836"
      ],
      "metadata": {
        "id": "-s3XB9stPVJl"
      }
    },
    {
      "cell_type": "markdown",
      "source": [
        "Importing The ImageDataGenerator Library"
      ],
      "metadata": {
        "id": "R-e6o9L4Phud"
      }
    },
    {
      "cell_type": "code",
      "source": [
        "import keras \n",
        "from keras.preprocessing.image import ImageDataGenerator"
      ],
      "metadata": {
        "id": "vAe3InEUPd5B"
      },
      "execution_count": 1,
      "outputs": []
    },
    {
      "cell_type": "markdown",
      "source": [
        "Define the parameters/arguments for ImageDataGenerator class"
      ],
      "metadata": {
        "id": "9G3nplgPPrlx"
      }
    },
    {
      "cell_type": "code",
      "source": [
        "train_datagen=ImageDataGenerator(rescale=1./255,shear_range=0.2,rotation_range=180,zoom_range=0.2, horizontal_flip=True)\n",
        "test_datagen=ImageDataGenerator(rescale=1./255)"
      ],
      "metadata": {
        "id": "DXNWWoHTPt7Q"
      },
      "execution_count": 2,
      "outputs": []
    },
    {
      "cell_type": "markdown",
      "source": [
        "Applying ImageDataGenerator functionality to trainset"
      ],
      "metadata": {
        "id": "-F7MUbecP5N-"
      }
    },
    {
      "cell_type": "code",
      "source": [
        "x_train=train_datagen.flow_from_directory(r'/content/drive/MyDrive/Dataset/train_set',target_size=(128,128),batch_size=32, class_mode='binary')"
      ],
      "metadata": {
        "id": "0zt95jeMP6Wa"
      },
      "execution_count": null,
      "outputs": []
    },
    {
      "cell_type": "markdown",
      "source": [
        "Found 436 images belonging to 2 classes."
      ],
      "metadata": {
        "id": "6LdaaCbRQGYp"
      }
    },
    {
      "cell_type": "markdown",
      "source": [
        "\n",
        "Applying ImageDataGenerator functionality to testset"
      ],
      "metadata": {
        "id": "ggYYngySQMX8"
      }
    },
    {
      "cell_type": "code",
      "source": [
        "x_test=test_datagen.flow_from_directory(r'/content/drive/MyDrive/Dataset/test_set',target_size=(128,128),batch_size=32, class_mode='binary')"
      ],
      "metadata": {
        "id": "hY11a-1TQTBI"
      },
      "execution_count": null,
      "outputs": []
    },
    {
      "cell_type": "markdown",
      "source": [
        "Found 121 images belonging to 2 classes."
      ],
      "metadata": {
        "id": "tC_u7as5QarB"
      }
    }
  ]
}