{
  "nbformat": 4,
  "nbformat_minor": 0,
  "metadata": {
    "colab": {
      "provenance": [],
      "authorship_tag": "ABX9TyN+4iL6WF0m7Tf3T7Wdj8q6",
      "include_colab_link": true
    },
    "kernelspec": {
      "name": "python3",
      "display_name": "Python 3"
    },
    "language_info": {
      "name": "python"
    },
    "accelerator": "GPU",
    "gpuClass": "standard"
  },
  "cells": [
    {
      "cell_type": "markdown",
      "metadata": {
        "id": "view-in-github",
        "colab_type": "text"
      },
      "source": [
        "<a href=\"https://colab.research.google.com/github/jothilakshmi40/project-development/blob/main/sprint_4.ipynb\" target=\"_parent\"><img src=\"https://colab.research.google.com/assets/colab-badge.svg\" alt=\"Open In Colab\"/></a>"
      ]
    },
    {
      "cell_type": "markdown",
      "source": [
        "Emerging Methods For Early Detection OF Forest Fire\n",
        "\n",
        "Project Development Phase\n",
        "\n",
        "Sprint 4\n",
        "\n",
        "Team ID:PNT2022TMlD51836"
      ],
      "metadata": {
        "id": "sW5muB6VaORr"
      }
    },
    {
      "cell_type": "markdown",
      "source": [
        "Importing The ImageDataGenerator Library"
      ],
      "metadata": {
        "id": "ZksVXIYIaaPW"
      }
    },
    {
      "cell_type": "code",
      "source": [
        "!pip install tensorflow\n",
        "!pip install opencv-python\n",
        "!pip install opencv-contrib-python\n",
        "import tensorflow as tf\n",
        "import numpy as np\n",
        "from tensorflow import keras\n",
        "import os\n",
        "import cv2\n",
        "from tensorflow.keras.preprocessing.image import ImageDataGenerator\n",
        "from tensorflow.keras.preprocessing import image"
      ],
      "metadata": {
        "id": "iFkgVf_7aUc5"
      },
      "execution_count": null,
      "outputs": []
    },
    {
      "cell_type": "markdown",
      "source": [
        "Define the parameters/arguments for ImageDataGenerator class"
      ],
      "metadata": {
        "id": "pynunRsjahK6"
      }
    },
    {
      "cell_type": "code",
      "source": [
        "train=ImageDataGenerator(rescale=1./255,\n",
        "                                 shear_range=0.2,\n",
        "                                 rotation_range=180,\n",
        "                                 zoom_range=0.2,\n",
        "                                 horizontal_flip=True)\n",
        "train = ImageDataGenerator(rescale=1/255)\n",
        "test = ImageDataGenerator(rescale=1/255)"
      ],
      "metadata": {
        "id": "PfbcTrkLaoYJ"
      },
      "execution_count": null,
      "outputs": []
    },
    {
      "cell_type": "markdown",
      "source": [
        "Applying ImageDataGenerator functionality to trainset"
      ],
      "metadata": {
        "id": "rOxwTNBsasif"
      }
    },
    {
      "cell_type": "code",
      "source": [
        "train_dataset = train.flow_from_directory(\"/content/drive/MyDrive/Dataset/train_set\",\n",
        "                                          target_size=(128,128),\n",
        "                                          batch_size = 32,\n",
        "                                          class_mode = 'binary' )"
      ],
      "metadata": {
        "id": "nUImQSzvaw_w"
      },
      "execution_count": null,
      "outputs": []
    },
    {
      "cell_type": "markdown",
      "source": [
        "Found 436 images belonging to 2 classes."
      ],
      "metadata": {
        "id": "Vea66tSFa4SK"
      }
    },
    {
      "cell_type": "markdown",
      "source": [
        "Applying ImageDataGenerator functionality to testse"
      ],
      "metadata": {
        "id": "per8TU-vbDSl"
      }
    },
    {
      "cell_type": "code",
      "source": [
        "test_dataset = test.flow_from_directory(\"/content/drive/MyDrive/Dataset/test_set\",\n",
        "                                          target_size=(128,128),\n",
        "                                          batch_size = 32,\n",
        "                                          class_mode = 'binary' )"
      ],
      "metadata": {
        "id": "tglWH_KbbJi2"
      },
      "execution_count": null,
      "outputs": []
    },
    {
      "cell_type": "markdown",
      "source": [
        "Found 121 images belonging to 2 classes."
      ],
      "metadata": {
        "id": "MP5Df_MUbQE3"
      }
    },
    {
      "cell_type": "code",
      "source": [
        "test_dataset.class_indices"
      ],
      "metadata": {
        "id": "uSkDVO2ObWEE"
      },
      "execution_count": null,
      "outputs": []
    },
    {
      "cell_type": "markdown",
      "source": [
        "{'forest': 0, 'with fire': 1}"
      ],
      "metadata": {
        "id": "qLnJAapgbXIA"
      }
    },
    {
      "cell_type": "markdown",
      "source": [
        "Import model building libraries"
      ],
      "metadata": {
        "id": "C1Oo2O2wbcD0"
      }
    },
    {
      "cell_type": "code",
      "source": [
        "#to define linear initialisation import sequential\n",
        "from keras.models import Sequential\n",
        "#to add layer import Dense\n",
        "from keras.layers import Dense\n",
        "#to create convolution kernel import convolution2D\n",
        "from keras.layers import Convolution2D\n",
        "#import Maxpooling layer\n",
        "from keras.layers import MaxPooling2D\n",
        "#import flatten layer\n",
        "from keras.layers import Flatten\n",
        "import warnings\n",
        "warnings.filterwarnings('ignore')"
      ],
      "metadata": {
        "id": "S9gt5kaqbpry"
      },
      "execution_count": null,
      "outputs": []
    },
    {
      "cell_type": "markdown",
      "source": [
        "Initializing the model"
      ],
      "metadata": {
        "id": "XMlPg6xYbw-f"
      }
    },
    {
      "cell_type": "code",
      "source": [
        "model =Sequential()"
      ],
      "metadata": {
        "id": "SWkMMzWVb2AL"
      },
      "execution_count": null,
      "outputs": []
    },
    {
      "cell_type": "markdown",
      "source": [
        "Add CNN Layer"
      ],
      "metadata": {
        "id": "03kc8nvBb6oL"
      }
    },
    {
      "cell_type": "code",
      "source": [
        "model.add(Convolution2D(32,(3,3),input_shape=(128,128,3),activation='relu'))\n",
        "model.add(MaxPooling2D(pool_size=(2,2)))\n",
        "model.add(Convolution2D(32,(3,3),activation='relu'))\n",
        "model.add(MaxPooling2D(pool_size=(2,2)))\n",
        "model.add(Convolution2D(32,(3,3),activation='relu'))\n",
        "model.add(MaxPooling2D(pool_size=(2,2)))\n",
        "model.add(Convolution2D(32,(3,3),activation='relu'))\n",
        "model.add(MaxPooling2D(pool_size=(2,2)))\n",
        "model.add(Flatten())"
      ],
      "metadata": {
        "id": "OIXDDahKb75q"
      },
      "execution_count": null,
      "outputs": []
    },
    {
      "cell_type": "markdown",
      "source": [
        "Add Hidden Layer"
      ],
      "metadata": {
        "id": "MOQw0e3FcDta"
      }
    },
    {
      "cell_type": "code",
      "source": [
        "model.add(Dense(150,activation='relu'))\n",
        "\n",
        "model.add(Dense(1,activation='sigmoid'))"
      ],
      "metadata": {
        "id": "dKRt79_gcElh"
      },
      "execution_count": null,
      "outputs": []
    },
    {
      "cell_type": "markdown",
      "source": [
        "Configure the learning process"
      ],
      "metadata": {
        "id": "TOxnJkFFcQxK"
      }
    },
    {
      "cell_type": "code",
      "source": [
        "model.compile(loss = 'binary_crossentropy',\n",
        "              optimizer = \"adam\",\n",
        "              metrics = [\"accuracy\"])"
      ],
      "metadata": {
        "id": "JponZ3MCcRtm"
      },
      "execution_count": null,
      "outputs": []
    },
    {
      "cell_type": "markdown",
      "source": [
        "Train the model"
      ],
      "metadata": {
        "id": "dPmp42wKcQqK"
      }
    },
    {
      "cell_type": "code",
      "source": [
        "model.fit_generator(x_train,steps_per_epoch=14,epochs=5,validation_data=x_test,validation_steps=4)"
      ],
      "metadata": {
        "id": "DOJFFmnechiu"
      },
      "execution_count": null,
      "outputs": []
    },
    {
      "cell_type": "markdown",
      "source": [
        "poch 1/5\n",
        "14/14 [==============================] - 33s 2s/step - loss: 0.5697 - accuracy: 0.7018 - val_loss: 0.2470 - val_accuracy: 0.9421\n",
        "Epoch 2/5\n",
        "14/14 [==============================] - 36s 3s/step - loss: 0.3486 - accuracy: 0.8280 - val_loss: 0.1461 - val_accuracy: 0.9752\n",
        "Epoch 3/5\n",
        "14/14 [==============================] - 30s 2s/step - loss: 0.2088 - accuracy: 0.9060 - val_loss: 0.0464 - val_accuracy: 0.9917\n",
        "Epoch 4/5\n",
        "14/14 [==============================] - 34s 2s/step - loss: 0.1883 - accuracy: 0.9128 - val_loss: 0.0730 - val_accuracy: 0.9669\n",
        "Epoch 5/5\n",
        "14/14 [==============================] - 30s 2s/step - loss: 0.1682 - accuracy: 0.9220 - val_loss: 0.0353 - val_accuracy: 1.0000\n"
      ],
      "metadata": {
        "id": "-jJZH6uLcm_j"
      }
    },
    {
      "cell_type": "markdown",
      "source": [
        "Save The Mode"
      ],
      "metadata": {
        "id": "LAVw4N2qcry3"
      }
    },
    {
      "cell_type": "code",
      "source": [
        "model.save(\"/content/drive/MyDrive/archive(1)/forest1.h5\")"
      ],
      "metadata": {
        "id": "-YCB2eETcwKE"
      },
      "execution_count": null,
      "outputs": []
    },
    {
      "cell_type": "markdown",
      "source": [
        "Predictions"
      ],
      "metadata": {
        "id": "3GiUClc5c0Ti"
      }
    },
    {
      "cell_type": "code",
      "source": [
        "\n",
        "predictions = model.predict(test_dataset)\n",
        "predictions = np.round(predictions)"
      ],
      "metadata": {
        "id": "qgkRyEhlc4KV"
      },
      "execution_count": null,
      "outputs": []
    },
    {
      "cell_type": "markdown",
      "source": [
        "4/4 [==============================] - 6s 1s/step"
      ],
      "metadata": {
        "id": "PiOYp06Lc8tz"
      }
    },
    {
      "cell_type": "markdown",
      "source": [
        "predictions"
      ],
      "metadata": {
        "id": "75DLhBMzdA7K"
      }
    },
    {
      "cell_type": "markdown",
      "source": [
        "array([[1.],\n",
        "       [0.],\n",
        "       [0.],\n",
        "       [1.],\n",
        "       [0.],\n",
        "       [1.],\n",
        "       [1.],\n",
        "       [1.],\n",
        "       [1.],\n",
        "       [1.],\n",
        "       [0.],\n",
        "       [0.],\n",
        "       [0.],\n",
        "       [0.],\n",
        "       [1.],\n",
        "       [1.],\n",
        "       [0.],\n",
        "       [1.],\n",
        "       [0.],\n",
        "       [0.],\n",
        "       [0.],\n",
        "       [1.],\n",
        "       [1.],\n",
        "       [1.],\n",
        "       [0.],\n",
        "       [0.],\n",
        "       [0.],\n",
        "       [0.],\n",
        "       [0.],\n",
        "       [0.],\n",
        "       [1.],\n",
        "       [0.],\n",
        "       [1.],\n",
        "       [0.],\n",
        "       [1.],\n",
        "       [1.],\n",
        "       [1.],\n",
        "       [1.],\n",
        "       [0.],\n",
        "       [0.],\n",
        "       [1.],\n",
        "       [0.],\n",
        "       [0.],\n",
        "       [0.],\n",
        "       [0.],\n",
        "       [1.],\n",
        "       [1.],\n",
        "       [1.],\n",
        "       [0.],\n",
        "       [1.],\n",
        "       [1.],\n",
        "       [0.],\n",
        "       [0.],\n",
        "       [1.],\n",
        "       [1.],\n",
        "       [1.],\n",
        "       [1.],\n",
        "       [0.],\n",
        "       [1.],\n",
        "       [1.],\n",
        "       [0.],\n",
        "       [0.],\n",
        "       [0.],\n",
        "       [1.],\n",
        "       [0.],\n",
        "       [1.],\n",
        "       [0.],\n",
        "       [0.],\n",
        "       [1.],\n",
        "       [0.],\n",
        "       [0.],\n",
        "       [0.],\n",
        "       [0.],\n",
        "       [0.],\n",
        "       [1.],\n",
        "       [1.],\n",
        "       [0.],\n",
        "       [1.],\n",
        "       [1.],\n",
        "       [0.],\n",
        "       [0.],\n",
        "       [1.],\n",
        "       [0.],\n",
        "       [0.],\n",
        "       [0.],\n",
        "       [0.],\n",
        "       [1.],\n",
        "       [0.],\n",
        "       [0.],\n",
        "       [0.],\n",
        "       [0.],\n",
        "       [0.],\n",
        "       [1.],\n",
        "       [0.],\n",
        "       [0.],\n",
        "       [0.],\n",
        "       [0.],\n",
        "       [1.],\n",
        "       [0.],\n",
        "       [1.],\n",
        "       [0.],\n",
        "       [0.],\n",
        "       [0.],\n",
        "       [0.],\n",
        "       [0.],\n",
        "       [1.],\n",
        "       [0.],\n",
        "       [0.],\n",
        "       [0.],\n",
        "       [1.],\n",
        "       [0.],\n",
        "       [1.],\n",
        "       [0.],\n",
        "       [0.],\n",
        "       [0.],\n",
        "       [0.],\n",
        "       [1.],\n",
        "       [0.],\n",
        "       [0.],\n",
        "       [1.],\n",
        "       [1.]], dtype=float32)"
      ],
      "metadata": {
        "id": "nicA0prJdRKc"
      }
    },
    {
      "cell_type": "code",
      "source": [
        "print(len(predictions))"
      ],
      "metadata": {
        "id": "3X8BzhnAdW4u"
      },
      "execution_count": null,
      "outputs": []
    },
    {
      "cell_type": "markdown",
      "source": [
        "121"
      ],
      "metadata": {
        "id": "G-Na6FM8dckI"
      }
    },
    {
      "cell_type": "code",
      "source": [
        "#import load_model from keras.model\n",
        "from keras.models import load_model\n",
        "#import image class from keras\n",
        "import tensorflow as tf\n",
        "from tensorflow.keras.preprocessing import image\n",
        "#import numpy\n",
        "import numpy as np\n",
        "#import cv2\n",
        "import cv2"
      ],
      "metadata": {
        "id": "0qdoyab6ddjc"
      },
      "execution_count": null,
      "outputs": []
    },
    {
      "cell_type": "code",
      "source": [
        "#load the saved model\n",
        "model = load_model(\"/content/drive/MyDrive/archive(1)/forest1.h5\")"
      ],
      "metadata": {
        "id": "2GkLMwPQdnU7"
      },
      "execution_count": null,
      "outputs": []
    },
    {
      "cell_type": "code",
      "source": [
        "def predictImage(filename):\n",
        "  img1 = image.load_img(filename,target_size=(128,128))\n",
        "  Y = image.img_to_array(img1)\n",
        "  X = np.expand_dims(Y,axis=0)\n",
        "  val = model.predict(X)\n",
        "  print(val)\n",
        "  if val == 1:\n",
        "    print(\" fire\")\n",
        "  elif val == 0:\n",
        "      print(\"no fire\")"
      ],
      "metadata": {
        "id": "B0TtE3d8drY5"
      },
      "execution_count": null,
      "outputs": []
    },
    {
      "cell_type": "code",
      "source": [
        "predictImage(\"/content/drive/MyDrive/Dataset/test_set/with fire/19464620_401.jpg\")"
      ],
      "metadata": {
        "id": "bC8GutIjdvdf"
      },
      "execution_count": null,
      "outputs": []
    },
    {
      "cell_type": "markdown",
      "source": [
        "1/1 [==============================] - 0s 109ms/step\n",
        "[[1.]]\n",
        " fire"
      ],
      "metadata": {
        "id": "IsCAceRddzMI"
      }
    },
    {
      "cell_type": "markdown",
      "source": [
        "OpenCV For Video Processing"
      ],
      "metadata": {
        "id": "Y3wqfwJod3i-"
      }
    },
    {
      "cell_type": "code",
      "source": [
        "pip install twilio"
      ],
      "metadata": {
        "id": "2__yPT8_d7vV"
      },
      "execution_count": null,
      "outputs": []
    },
    {
      "cell_type": "markdown",
      "source": [
        "Looking in indexes: https://pypi.org/simple, https://us-python.pkg.dev/colab-wheels/public/simple/\n",
        "Collecting twilio\n",
        "  Downloading twilio-7.15.2-py2.py3-none-any.whl (1.4 MB)\n",
        "     |████████████████████████████████| 1.4 MB 7.6 MB/s \n",
        "Requirement already satisfied: requests>=2.0.0 in /usr/local/lib/python3.7/dist-packages (from twilio) (2.23.0)\n",
        "Collecting PyJWT<3.0.0,>=2.0.0\n",
        "  Downloading PyJWT-2.6.0-py3-none-any.whl (20 kB)\n",
        "Requirement already satisfied: pytz in /usr/local/lib/python3.7/dist-packages (from twilio) (2022.6)\n",
        "Requirement already satisfied: urllib3!=1.25.0,!=1.25.1,<1.26,>=1.21.1 in /usr/local/lib/python3.7/dist-packages (from requests>=2.0.0->twilio) (1.24.3)\n",
        "Requirement already satisfied: chardet<4,>=3.0.2 in /usr/local/lib/python3.7/dist-packages (from requests>=2.0.0->twilio) (3.0.4)\n",
        "Requirement already satisfied: idna<3,>=2.5 in /usr/local/lib/python3.7/dist-packages (from requests>=2.0.0->twilio) (2.10)\n",
        "Requirement already satisfied: certifi>=2017.4.17 in /usr/local/lib/python3.7/dist-packages (from requests>=2.0.0->twilio) (2022.9.24)\n",
        "Installing collected packages: PyJWT, twilio\n",
        "Successfully installed PyJWT-2.6.0 twilio-7.15.2"
      ],
      "metadata": {
        "id": "jnnFAifCeDOG"
      }
    },
    {
      "cell_type": "code",
      "source": [
        "pip install playsound"
      ],
      "metadata": {
        "id": "7XZAExG3eKCU"
      },
      "execution_count": null,
      "outputs": []
    },
    {
      "cell_type": "markdown",
      "source": [
        "Looking in indexes: https://pypi.org/simple, https://us-python.pkg.dev/colab-wheels/public/simple/\n",
        "Collecting playsound\n",
        "  Downloading playsound-1.3.0.tar.gz (7.7 kB)\n",
        "Building wheels for collected packages: playsound\n",
        "  Building wheel for playsound (setup.py) ... done\n",
        "  Created wheel for playsound: filename=playsound-1.3.0-py3-none-any.whl size=7035 sha256=81d5eaff42a76c8c818cc053e8955fc8ef345b03824112ae2c4da8cb45109e4d\n",
        "  Stored in directory: /root/.cache/pip/wheels/ba/f8/bb/ea57c0146b664dca3a0ada4199b0ecb5f9dfcb7b7e22b65ba2\n",
        "Successfully built playsound\n",
        "Installing collected packages: playsound\n",
        "Successfully installed playsound-1.3.0"
      ],
      "metadata": {
        "id": "P5p7qlFreOsv"
      }
    },
    {
      "cell_type": "code",
      "source": [
        "#import opencv librariy\n",
        "import cv2\n",
        "#import numpy\n",
        "import numpy as np\n",
        "#import image function from keras\n",
        "from keras.preprocessing import image\n",
        "#import load_model from keras\n",
        "from keras.models import load_model\n",
        "#import client from twilio API\n",
        "from twilio.rest import Client\n",
        "#imort playsound package\n",
        "from playsound import playsound"
      ],
      "metadata": {
        "id": "Jna2e-teeRCE"
      },
      "execution_count": null,
      "outputs": []
    },
    {
      "cell_type": "code",
      "source": [
        "#load the saved model\n",
        "model = load_model(r'/content/drive/MyDrive/archive(1)/forest1.h5')\n",
        "#define video\n",
        "video = cv2.VideoCapture('/content/Fighting Fire with Fire _ Explained in 30 Seconds.mp4')\n",
        "#define the features\n",
        "name = ['forest','with forest']"
      ],
      "metadata": {
        "id": "kyAB9iileYZN"
      },
      "execution_count": null,
      "outputs": []
    },
    {
      "cell_type": "markdown",
      "source": [
        "Creating An Account In Twilio Service"
      ],
      "metadata": {
        "id": "sVCTI0o8ek7g"
      }
    },
    {
      "cell_type": "code",
      "source": [
        "auth_token='f9ae4fc4a617a527da8672e97eefb2d8'\n",
        "client=Client(account_sid,auth_token)\n",
        "message=client.messages \\\n",
        ".create(\n",
        "      body='Forest Fire is detected, stay alert',\n",
        "      from_='+1 302 248 4366',\n",
        "      to='+91 99400 12164'\n",
        ")\n",
        "print(message.sid)"
      ],
      "metadata": {
        "id": "3mAwFcx9euTJ"
      },
      "execution_count": null,
      "outputs": []
    },
    {
      "cell_type": "markdown",
      "source": [
        "SMaf67c32f7d9ec38f512cb2c156f53076"
      ],
      "metadata": {
        "id": "fNgc5qvrexdg"
      }
    },
    {
      "cell_type": "markdown",
      "source": [
        "Sending Alert Messagepip "
      ],
      "metadata": {
        "id": "804lAtcUe3SE"
      }
    },
    {
      "cell_type": "code",
      "source": [
        "pip install pygobject"
      ],
      "metadata": {
        "id": "8DUcHjb9e_J2"
      },
      "execution_count": null,
      "outputs": []
    },
    {
      "cell_type": "markdown",
      "source": [
        "Looking in indexes: https://pypi.org/simple, https://us-python.pkg.dev/colab-wheels/public/simple/\n",
        "Requirement already satisfied: pygobject in /usr/lib/python3/dist-packages (3.26.1)"
      ],
      "metadata": {
        "id": "EvCB1j0hfDIe"
      }
    },
    {
      "cell_type": "code",
      "source": [
        "def message(val):\n",
        "  if val==1:\n",
        "    from twilio.rest import Client\n",
        "    print('Forest fire')\n",
        "    account_sid='ACfb4e6d0e7b0d25def63044919f1b96e3'\n",
        "    auth_token='f9ae4fc4a617a527da8672e97eefb2d8'\n",
        "    client=Client(account_sid,auth_token)\n",
        "    message=client.messages \\\n",
        "     .create(\n",
        "        body='forest fire is detected, stay alert',\n",
        "        #use twilio free number\n",
        "        from_='+1 302 248 4366',\n",
        "        #to number\n",
        "        to='+91 99400 12164')\n",
        "    print(message.sid)\n",
        "    print(\"Fire detected\")\n",
        "    print(\"SMS Sent!\")\n",
        "  elif val==0:\n",
        "    print('No Fire')"
      ],
      "metadata": {
        "id": "OpQHyqtTfGl9"
      },
      "execution_count": null,
      "outputs": []
    },
    {
      "cell_type": "code",
      "source": [
        "from matplotlib import pyplot as plt\n",
        "#import load model from keras.model\n",
        "from keras.models import load_model\n",
        "#import image from keras\n",
        "from tensorflow.keras.preprocessing import image\n",
        "img1 = image.load_img('/content/drive/MyDrive/Dataset/test_set/with fire/Wild_fires.jpg',target_size=(128,128))\n",
        "Y = image.img_to_array(img1)\n",
        "x = np.expand_dims(Y,axis=0)\n",
        "val = model.predict(x)\n",
        "plt.imshow(img1)\n",
        "plt.show()\n",
        "message(val)\n",
        "1/1 [================="
      ],
      "metadata": {
        "id": "47ZSIwRifLC4"
      },
      "execution_count": null,
      "outputs": []
    },
    {
      "cell_type": "markdown",
      "source": [
        "1/1 [==============================] - 0s 28ms/step\n",
        "\n",
        "Forest fire\n",
        "SMf2ce71b88007bab016938ac47f34eedf\n",
        "Fire detected\n",
        "SMS Sent!\n"
      ],
      "metadata": {
        "id": "tIriwRvzfTIM"
      }
    },
    {
      "cell_type": "code",
      "source": [
        "img2 = image.load_img('/content/drive/MyDrive/Dataset/test_set/forest/1200px_Mountainarea.jpg',target_size=(128,128))\n",
        "Y = image.img_to_array(img2)\n",
        "x = np.expand_dims(Y,axis=0)\n",
        "val = model.predict(x)\n",
        "plt.imshow(img2)\n",
        "plt.show()\n",
        "message(val)"
      ],
      "metadata": {
        "id": "Fqglyn9IfYlp"
      },
      "execution_count": null,
      "outputs": []
    },
    {
      "cell_type": "markdown",
      "source": [
        "1/1 [==============================] - 0s 27ms/step"
      ],
      "metadata": {
        "id": "MUeg4X5YfdmG"
      }
    }
  ]
}